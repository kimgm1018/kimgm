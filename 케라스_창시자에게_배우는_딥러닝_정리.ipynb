{
  "nbformat": 4,
  "nbformat_minor": 0,
  "metadata": {
    "colab": {
      "provenance": [],
      "authorship_tag": "ABX9TyOjZvl2v7LDmzFDkrbtsexO",
      "include_colab_link": true
    },
    "kernelspec": {
      "name": "python3",
      "display_name": "Python 3"
    },
    "accelerator": "GPU"
  },
  "cells": [
    {
      "cell_type": "markdown",
      "metadata": {
        "id": "view-in-github",
        "colab_type": "text"
      },
      "source": [
        "<a href=\"https://colab.research.google.com/github/kimgm1018/kimgm/blob/main/%EC%BC%80%EB%9D%BC%EC%8A%A4_%EC%B0%BD%EC%8B%9C%EC%9E%90%EC%97%90%EA%B2%8C_%EB%B0%B0%EC%9A%B0%EB%8A%94_%EB%94%A5%EB%9F%AC%EB%8B%9D_%EC%A0%95%EB%A6%AC.ipynb\" target=\"_parent\"><img src=\"https://colab.research.google.com/assets/colab-badge.svg\" alt=\"Open In Colab\"/></a>"
      ]
    },
    {
      "cell_type": "markdown",
      "metadata": {
        "id": "ozRW8pF3gFg3"
      },
      "source": [
        "#**신경망을 위한 데이터 표현**\n",
        "\n",
        "\n",
        "tensor = 데이터를 위한 컨테이너\n",
        "\n",
        "scalar = 하나의 숫자만 담고있는 tensor => 0차원이라 축이 없음\n",
        "\n",
        "vector = 숫자의 배열 (배열안의 원소의 갯수에 따라 n차원 vector로 부름, 축 또한n개) - \n",
        "**5D vector 와 5D tensor는 명백히 다르다**\n",
        "\n",
        "2D tensor(행열) - 2차원 배열\n",
        "\n",
        "3D tensor&고차원 tensor -- 보통 딥러닝에서는 4D까지 사용한다.\n",
        "\n",
        "##**tensor의 핵심속성 - 텐서는 3개의 핵심속성을 지닌다.**\n",
        "축의 갯수 = numpy의 ndim을 통해 알수있다\n",
        "\n",
        "shape(크기) = 텐서의 각 축을 따라 얼마나 많은 차원이 있는지를 나타낸 파이썬의 듀플 - 스칼라는 () -> 즉 크기가 없다\n",
        "\n",
        "데이터 타입(numpy에서는 dtype에 저장된다) = 텐서에 포함된 데이터의 타입(주로 flaot32, flaot64, unit8)\n"
      ]
    },
    {
      "cell_type": "code",
      "metadata": {
        "colab": {
          "base_uri": "https://localhost:8080/"
        },
        "id": "3Um9b06ymPnx",
        "outputId": "22ffe628-5b6c-4225-a802-a2d3e938c11d"
      },
      "source": [
        "#mnist에서 사용했던 데이터를 보자\n",
        "from keras.datasets import mnist\n",
        "(train_images, train_labels),(test_images, test_labels) = mnist.load_data()\n",
        "print(train_images.ndim)\n",
        "print(train_images.shape)\n",
        "print(train_images.dtype)\n",
        "#즉 28*28 크기의 정수 행열이 6만개 -> 축이 3개(각각의 행열은 이미지 한장)"
      ],
      "execution_count": null,
      "outputs": [
        {
          "output_type": "stream",
          "text": [
            "3\n",
            "(60000, 28, 28)\n",
            "uint8\n"
          ],
          "name": "stdout"
        }
      ]
    },
    {
      "cell_type": "code",
      "metadata": {
        "colab": {
          "base_uri": "https://localhost:8080/",
          "height": 265
        },
        "id": "eI76BuLknzFY",
        "outputId": "c372f1b2-ca1c-45d6-b88f-e3de7663cc5c"
      },
      "source": [
        "#mnist의 이미지 출력\n",
        "digit = train_images[0]\n",
        "import matplotlib.pyplot as plt\n",
        "plt.imshow(digit, cmap=plt.cm.binary)\n",
        "plt.show()"
      ],
      "execution_count": null,
      "outputs": [
        {
          "output_type": "display_data",
          "data": {
            "image/png": "[encoded data removed]",
            "text/plain": [
              "<Figure size 432x288 with 1 Axes>"
            ]
          },
          "metadata": {
            "tags": [],
            "needs_background": "light"
          }
        }
      ]
    },
    {
      "cell_type": "code",
      "metadata": {
        "colab": {
          "base_uri": "https://localhost:8080/",
          "height": 284
        },
        "id": "akzs3ZB0pANh",
        "outputId": "62d42722-cc50-4b84-8686-f96ec6a91219"
      },
      "source": [
        "#넘파이로 텐서 조작하기\n",
        "my_slice = train_images[10:100] # 90개의 이미지-28*28\n",
        "print(my_slice.shape) #이는 | my_slice = train_images[10:100,:,:], my_slice = train_images[10:100,0:28,0:28] | 과 같다\n",
        "sample = train_images[2,0:14,0:14] #이런식으로 조절도 가능 - 왼쪽위 14*14픽셀만큼 \n",
        "plt.imshow(sample, cmap=plt.cm.binary)\n",
        "plt.show()"
      ],
      "execution_count": null,
      "outputs": [
        {
          "output_type": "stream",
          "text": [
            "(90, 28, 28)\n"
          ],
          "name": "stdout"
        },
        {
          "output_type": "display_data",
          "data": {
            "image/png": "[encoded data removed]",
            "text/plain": [
              "<Figure size 432x288 with 1 Axes>"
            ]
          },
          "metadata": {
            "tags": [],
            "needs_background": "light"
          }
        }
      ]
    },
    {
      "cell_type": "markdown",
      "metadata": {
        "id": "1JGNCES8zPbb"
      },
      "source": [
        "배치 데이터 - 딥러닝에서 전제 데이터 셋을 한꺼번에 처리하지 않고 데이터를 작은 배치(batch)로 나눈다음 처리한다.\n",
        "\n",
        "batch = train_images[:128]\n",
        "\n",
        "batch = train_images[128:256]\n",
        "\n",
        "batch = train_images[128*n:128(n+1)"
      ]
    },
    {
      "cell_type": "markdown",
      "metadata": {
        "id": "Si0-c7TSzlg4"
      },
      "source": [
        "###tensor의 실제 사례\n",
        "\n",
        "\n",
        "1.   벡터 데이터 : (samples, features) 크기의 2D 텐서\n",
        "2.   시계열 데이터 or 시퀸스(Sequence)데이터 : (smaples, timesteps, features) 크기의 3D 탠서\n",
        "3.이미지 : (samples, height, width, channels) or (samples, channels, height, width) 크기의 4D 텐서\n",
        "4.동영상 : (samples, frames, height, width, channels) or (samples, frames, channels, height, width) 크기의 5D 텐서"
      ]
    },
    {
      "cell_type": "markdown",
      "metadata": {
        "id": "4e_4UCI71W9M"
      },
      "source": [
        "###**vector 데이터 - 대부분의 경우에 해당**\n",
        "하나의 데이터가 바로 벡터로 인코딩 될 수 있다(posible) 즉 2D의 텐서가 있는데 이때 0번째 축이 샘플 축, 두번쨰 축이 특성축이 된다.\n",
        "\n",
        "ex) 사람의 나이, 우편번호, 소득으로 구성된 인구 통계 데이터, 각 사람은 3가지 데이터를 가진 벡터가 된다. -> 인구 10만명인 도시의 전체 데이터 셋은 (100000, 3)이 된다\n",
        "\n",
        "###**시계열 또는 시퀀스 데이터**\n",
        "데이터에서 시간/연속된 순서가 중요할 때는 시간 축을 포함하여 3D텐서로 저장 -> 샘플 데이터는 2D 데이터이므로 배치 데이터는 2D들이 모인것 == 3D텐서가 된다\n",
        "\n",
        "ex)주식가격 데이터 셋 = 1분마다 현재 주식 가격, 지난 1분 동안의 최소 가격과 최대가격을 저장, 3D 벡터로 인코딩(3D 텐서가 아님)된 하루의 데이터 셋을 하나의 셈플 데이터로 만듦 -> 3D텐서 완성\n",
        "\n",
        "###**이미지 데이터**\n",
        "이미지는 전형적으로 높이, 너비, 컬러 채널의 3차원(흑백 사진은 2차원에 저장할 수 있지만 관례적으로 3차원에 저장)\n",
        "\n",
        "ex)256 X 256 크기의 흑백 이미지에 대한 128개의 배치는 (128, 256, 256, 1)로 나타낼 수 있다. - 컬러라면 마지막이 3(RGB)\n",
        "\n",
        "이미지 텐서를 정하는 방식은 2가지 체널 마지막/ 체널 우선 방식이 있음(케라스는 둘다 지원)\n",
        "\n",
        "###**비디오 데이터**\n",
        "5D 텐서가 필요한 몇 안되는 데이터 중 하나\n",
        "\n",
        "비디오는 프레임의 연속 -> 프레임은 (height, width, color_depth)로 구성된 3D tensor -> 프레임의 연속은 프레임 + (frames) -> 동영상은 (smaples, 연속된 프레임)\n",
        "\n",
        "ex)60초 짜리 144X256 비디오 클립을 초당 4프레임으로 샘플링 클립을 4개가진 동영상은 (4, 240(초당 4프레임 이므로 60초는 240프레임), 144, 256, 3)"
      ]
    },
    {
      "cell_type": "markdown",
      "metadata": {
        "id": "PuzZsq5fUGQB"
      },
      "source": [
        "#**신경망의 톱니바퀴: 텐서 연산**\n",
        "이진수 계산(and, or, nor)연산자 처럼 텐서 연산또한 가능하다.\n",
        "\n",
        "##**원소별 계산**\n",
        "relu함수와 덧셈은 원소별 연산이다. 이 연산은 텐서에 있는 각 원소에 독립적으로 적용된다."
      ]
    },
    {
      "cell_type": "code",
      "metadata": {
        "id": "T16kvd5QVRat"
      },
      "source": [
        "#파이썬으로 구현하는 relu\n",
        "def naive_relu(x):\n",
        "  assert len(x.shape) == 2 #assert함수는 뒤의 조건이 참이 아니라면 에러를 발생시킨다.\n",
        "  #len(x.shape) == 2 란 말은 2D 텐서이면 이란 말(2x2 행열이라면 x.shape가(2,2)로 나오기 때문)\n",
        "\n",
        "  x = x.copy() #입력 텐서를 바꾸면 안되니까 복사\n",
        "  for i in range(x.shape[0]):\n",
        "    for j in range(x.shape[1]):\n",
        "      x[i,j] = max(x[i,j], 0) #0보다 크면 x의 텐서를 반환, 0보다 작으면 0을 반환\n",
        "  return x\n",
        "\n",
        "#파이썬으로 구현하는 텐서 덧샘\n",
        "def naive_add(x, y):\n",
        "  assert len(x.shape) == 2\n",
        "  assert x.shape == y.shape\n",
        "\n",
        "  x = x.copy\n",
        "  for i in range(x.shape[0]):\n",
        "    for j in range(x.shape[1]):\n",
        "      x[i,j] += y[i,j]\n",
        "  return x"
      ],
      "execution_count": null,
      "outputs": []
    },
    {
      "cell_type": "markdown",
      "metadata": {
        "id": "0NViupBlZfTt"
      },
      "source": [
        "이는 c 기반인 numpy에서 효율적으로 계산 가능"
      ]
    },
    {
      "cell_type": "code",
      "metadata": {
        "colab": {
          "base_uri": "https://localhost:8080/"
        },
        "id": "NrPC2TyUZtXk",
        "outputId": "16035e13-1c87-4f5d-85cd-0544386488a7"
      },
      "source": [
        "#numpy의 relu계산\n",
        "import numpy as np\n",
        "x = np.array([[1,0],[-1,-3]])\n",
        "z = np.maximum(x, 0)\n",
        "z\n",
        "\n",
        "#numpy의 덧샘\n",
        "y = ([[2,4],[4,-4]])\n",
        "i = x + y\n",
        "i"
      ],
      "execution_count": null,
      "outputs": [
        {
          "output_type": "execute_result",
          "data": {
            "text/plain": [
              "array([[ 3,  4],\n",
              "       [ 3, -7]])"
            ]
          },
          "metadata": {
            "tags": []
          },
          "execution_count": 38
        }
      ]
    },
    {
      "cell_type": "markdown",
      "metadata": {
        "id": "Qy8JWxE7XVEA"
      },
      "source": [
        "##**브로드캐스팅**\n",
        "크기가 다른 두 텐서가 더해질 때 무슨 일이 일어날까?\n",
        "\n",
        "1. 큰 텐서에 ndim에 맞춰 작은 텐서에 브로드캐스팅축을 추가\n",
        "\n",
        "2. 작은 텐서가 새 축을 따라서 큰 텐서의 크기에 맞게 반복\n",
        "\n",
        "##**텐서 점곱**\n",
        "tensorflow에서는 tf.matmul(x,y)//keras에서는 dot()연산을 쓴다\n",
        "\n",
        "다 적기 힘드니 교제 73~76을 볼것\n",
        "\n",
        "##**탠서 크기변환**\n"
      ]
    },
    {
      "cell_type": "code",
      "metadata": {
        "colab": {
          "base_uri": "https://localhost:8080/"
        },
        "id": "6uYAqlXBay0v",
        "outputId": "b68d40a9-db21-48f8-e279-89da6ab3b64c"
      },
      "source": [
        "#텐서 크기변환 예\n",
        "import numpy as np\n",
        "x = np.array([[0,1],\n",
        "              [2,3],\n",
        "              [4,5]])\n",
        "print(x.shape)\n",
        "x = x.reshape(6,1)\n",
        "print(x)\n",
        "x = np.zeros((300,20))\n",
        "x = np.transpose(x)\n",
        "print(x.shape)"
      ],
      "execution_count": null,
      "outputs": [
        {
          "output_type": "stream",
          "text": [
            "(3, 2)\n",
            "[[0]\n",
            " [1]\n",
            " [2]\n",
            " [3]\n",
            " [4]\n",
            " [5]]\n",
            "(20, 300)\n"
          ],
          "name": "stdout"
        }
      ]
    },
    {
      "cell_type": "code",
      "metadata": {
        "colab": {
          "base_uri": "https://localhost:8080/"
        },
        "id": "MvcG1PiRTGUT",
        "outputId": "8b3c231e-5b53-4594-ca15-467503560e11"
      },
      "source": [
        "from keras.datasets import imdb\n",
        "\n",
        "(train_data, train_labels),(test_data, test_labels) = imdb.load_data(\n",
        "    num_words = 10000)"
      ],
      "execution_count": null,
      "outputs": [
        {
          "output_type": "stream",
          "text": [
            "Downloading data from https://storage.googleapis.com/tensorflow/tf-keras-datasets/imdb.npz\n",
            "17465344/17464789 [==============================] - 0s 0us/step\n"
          ],
          "name": "stdout"
        },
        {
          "output_type": "stream",
          "text": [
            "<string>:6: VisibleDeprecationWarning: Creating an ndarray from ragged nested sequences (which is a list-or-tuple of lists-or-tuples-or ndarrays with different lengths or shapes) is deprecated. If you meant to do this, you must specify 'dtype=object' when creating the ndarray\n",
            "/usr/local/lib/python3.6/dist-packages/tensorflow/python/keras/datasets/imdb.py:159: VisibleDeprecationWarning: Creating an ndarray from ragged nested sequences (which is a list-or-tuple of lists-or-tuples-or ndarrays with different lengths or shapes) is deprecated. If you meant to do this, you must specify 'dtype=object' when creating the ndarray\n",
            "  x_train, y_train = np.array(xs[:idx]), np.array(labels[:idx])\n",
            "/usr/local/lib/python3.6/dist-packages/tensorflow/python/keras/datasets/imdb.py:160: VisibleDeprecationWarning: Creating an ndarray from ragged nested sequences (which is a list-or-tuple of lists-or-tuples-or ndarrays with different lengths or shapes) is deprecated. If you meant to do this, you must specify 'dtype=object' when creating the ndarray\n",
            "  x_test, y_test = np.array(xs[idx:]), np.array(labels[idx:])\n"
          ],
          "name": "stderr"
        }
      ]
    },
    {
      "cell_type": "code",
      "metadata": {
        "id": "gQS9Qrw-Tp3r"
      },
      "source": [
        "import numpy as np\n",
        "\n",
        "def vectorize_sequences(sequences, dimension = 10000):\n",
        "  results = np.zeros((len(sequences),dimension))\n",
        "  for i, sequence in enumerate(sequences):\n",
        "    results[i, sequence] = 1.\n",
        "  return results\n",
        "\n",
        "x_train = vectorize_sequences(train_data)\n",
        "x_test = vectorize_sequences(test_data)"
      ],
      "execution_count": null,
      "outputs": []
    },
    {
      "cell_type": "code",
      "metadata": {
        "id": "Va_GxB8QVPRY"
      },
      "source": [
        "y_train = np.array(train_labels).astype('float32')\n",
        "y_test = np.array(test_labels).astype('float32')"
      ],
      "execution_count": null,
      "outputs": []
    },
    {
      "cell_type": "code",
      "metadata": {
        "id": "s9jCjduRo13P"
      },
      "source": [
        "from keras import models\n",
        "from keras import layers\n",
        "\n",
        "model = models.Sequential()\n",
        "model.add(layers.Dense(16, activation='relu',input_shape=(10000,)))\n",
        "model.add(layers.Dense(16, activation='relu'))\n",
        "model.add(layers.Dense(1, activation='sigmoid'))"
      ],
      "execution_count": null,
      "outputs": []
    },
    {
      "cell_type": "code",
      "metadata": {
        "id": "Mr1_BhLPpwtJ"
      },
      "source": [
        "model.compile(optimizer='rmsprop',\n",
        "              loss='binary_crossentropy',\n",
        "              metrics=['accuracy'])"
      ],
      "execution_count": null,
      "outputs": []
    },
    {
      "cell_type": "code",
      "metadata": {
        "id": "znMarx6yqM1t"
      },
      "source": [
        "from keras import optimizers\n",
        "\n",
        "model.compile(optimizer=optimizers.RMSprop(lr=0.001),\n",
        "              loss = 'binary_crossentropy',\n",
        "              metrics=['accuracy'])\n"
      ],
      "execution_count": null,
      "outputs": []
    },
    {
      "cell_type": "code",
      "metadata": {
        "id": "eisyDM3Rqkqm"
      },
      "source": [
        "from keras import losses\n",
        "from keras import metrics\n",
        "\n",
        "model.compile(optimizer = optimizers.RMSprop(lr=0.001),\n",
        "              loss = losses.binary_crossentropy,\n",
        "              metrics =[metrics.binary_accuracy])"
      ],
      "execution_count": null,
      "outputs": []
    },
    {
      "cell_type": "code",
      "metadata": {
        "id": "2lbc4NrTrYJp"
      },
      "source": [
        "x_val = x_train[0:10000]\n",
        "partial_x_train = x_train[10000:]\n",
        "y_val = y_train[0:10000]\n",
        "partial_y_train = y_train[10000:]"
      ],
      "execution_count": null,
      "outputs": []
    },
    {
      "cell_type": "code",
      "metadata": {
        "id": "qKfA7Mosrnv_",
        "colab": {
          "base_uri": "https://localhost:8080/"
        },
        "outputId": "bc41750b-9698-4807-8b98-cda88545f3ac"
      },
      "source": [
        "model.compile(optimizer='rmsprop',\n",
        "              loss='binary_crossentropy',\n",
        "              metrics=['acc'])\n",
        "\n",
        "history = model.fit(partial_x_train,\n",
        "                    partial_y_train,\n",
        "                    epochs=20,\n",
        "                    batch_size=512,\n",
        "                    validation_data=(x_val,y_val))"
      ],
      "execution_count": null,
      "outputs": [
        {
          "output_type": "stream",
          "text": [
            "Epoch 1/20\n",
            "30/30 [==============================] - 3s 52ms/step - loss: 0.5825 - acc: 0.7055 - val_loss: 0.3768 - val_acc: 0.8725\n",
            "Epoch 2/20\n",
            "30/30 [==============================] - 1s 33ms/step - loss: 0.3146 - acc: 0.9037 - val_loss: 0.3387 - val_acc: 0.8635\n",
            "Epoch 3/20\n",
            "30/30 [==============================] - 1s 34ms/step - loss: 0.2275 - acc: 0.9279 - val_loss: 0.2819 - val_acc: 0.8901\n",
            "Epoch 4/20\n",
            "30/30 [==============================] - 1s 33ms/step - loss: 0.1751 - acc: 0.9438 - val_loss: 0.2861 - val_acc: 0.8854\n",
            "Epoch 5/20\n",
            "30/30 [==============================] - 1s 33ms/step - loss: 0.1465 - acc: 0.9529 - val_loss: 0.2869 - val_acc: 0.8876\n",
            "Epoch 6/20\n",
            "30/30 [==============================] - 1s 33ms/step - loss: 0.1189 - acc: 0.9649 - val_loss: 0.2967 - val_acc: 0.8851\n",
            "Epoch 7/20\n",
            "30/30 [==============================] - 1s 33ms/step - loss: 0.0941 - acc: 0.9742 - val_loss: 0.3090 - val_acc: 0.8844\n",
            "Epoch 8/20\n",
            "30/30 [==============================] - 1s 32ms/step - loss: 0.0775 - acc: 0.9792 - val_loss: 0.3299 - val_acc: 0.8807\n",
            "Epoch 9/20\n",
            "30/30 [==============================] - 1s 33ms/step - loss: 0.0586 - acc: 0.9863 - val_loss: 0.3561 - val_acc: 0.8803\n",
            "Epoch 10/20\n",
            "30/30 [==============================] - 1s 33ms/step - loss: 0.0524 - acc: 0.9882 - val_loss: 0.3767 - val_acc: 0.8803\n",
            "Epoch 11/20\n",
            "30/30 [==============================] - 1s 33ms/step - loss: 0.0421 - acc: 0.9926 - val_loss: 0.4065 - val_acc: 0.8730\n",
            "Epoch 12/20\n",
            "30/30 [==============================] - 1s 34ms/step - loss: 0.0322 - acc: 0.9943 - val_loss: 0.4651 - val_acc: 0.8660\n",
            "Epoch 13/20\n",
            "30/30 [==============================] - 1s 33ms/step - loss: 0.0282 - acc: 0.9951 - val_loss: 0.4774 - val_acc: 0.8688\n",
            "Epoch 14/20\n",
            "30/30 [==============================] - 1s 33ms/step - loss: 0.0215 - acc: 0.9965 - val_loss: 0.4950 - val_acc: 0.8706\n",
            "Epoch 15/20\n",
            "30/30 [==============================] - 1s 38ms/step - loss: 0.0153 - acc: 0.9988 - val_loss: 0.5469 - val_acc: 0.8652\n",
            "Epoch 16/20\n",
            "30/30 [==============================] - 1s 37ms/step - loss: 0.0150 - acc: 0.9978 - val_loss: 0.5536 - val_acc: 0.8705\n",
            "Epoch 17/20\n",
            "30/30 [==============================] - 1s 41ms/step - loss: 0.0107 - acc: 0.9992 - val_loss: 0.6041 - val_acc: 0.8647\n",
            "Epoch 18/20\n",
            "30/30 [==============================] - 1s 35ms/step - loss: 0.0092 - acc: 0.9993 - val_loss: 0.6216 - val_acc: 0.8696\n",
            "Epoch 19/20\n",
            "30/30 [==============================] - 1s 33ms/step - loss: 0.0062 - acc: 0.9996 - val_loss: 0.6534 - val_acc: 0.8674\n",
            "Epoch 20/20\n",
            "30/30 [==============================] - 1s 34ms/step - loss: 0.0045 - acc: 0.9999 - val_loss: 0.6938 - val_acc: 0.8663\n"
          ],
          "name": "stdout"
        }
      ]
    },
    {
      "cell_type": "code",
      "metadata": {
        "colab": {
          "base_uri": "https://localhost:8080/",
          "height": 295
        },
        "id": "EZaPe50TTlxV",
        "outputId": "0fcfb68b-77b6-4486-b966-53a12aa7e8c2"
      },
      "source": [
        "import matplotlib.pyplot as plt\n",
        "\n",
        "history_dict = history.history\n",
        "loss = history_dict['loss']\n",
        "val_loss = history_dict['val_loss']\n",
        "\n",
        "epochs = range(1,len(loss) + 1)\n",
        "\n",
        "plt.plot(epochs, loss, 'bo', label='Training loss')\n",
        "plt.plot(epochs, val_loss,'b',label='Validation loss')\n",
        "plt.title('Training and Validation loss')\n",
        "plt.xlabel('Epochs')\n",
        "plt.ylabel('Loss')\n",
        "plt.legend()\n",
        "\n",
        "plt.show()"
      ],
      "execution_count": null,
      "outputs": [
        {
          "output_type": "display_data",
          "data": {
            "image/png": "[encoded data removed]",
            "text/plain": [
              "<Figure size 432x288 with 1 Axes>"
            ]
          },
          "metadata": {
            "tags": [],
            "needs_background": "light"
          }
        }
      ]
    },
    {
      "cell_type": "code",
      "metadata": {
        "colab": {
          "base_uri": "https://localhost:8080/"
        },
        "id": "AzCO8wokVHeX",
        "outputId": "8137c981-82af-47ee-8635-04589eeaac5e"
      },
      "source": [
        "model = models.Sequential()\n",
        "model.add(layers.Dense(16, activation='relu', input_shape=(10000,)))\n",
        "model.add(layers.Dense(16, activation='relu'))\n",
        "model.add(layers.Dense(1, activation='sigmoid'))\n",
        "\n",
        "model.compile(optimizer='rmsprop',\n",
        "              loss='binary_crossentropy',\n",
        "              metrics=['accuracy'])\n",
        "\n",
        "model.fit(x_train,y_train,epochs=4,batch_size=512)\n",
        "results=model.evaluate(x_test,y_test)"
      ],
      "execution_count": null,
      "outputs": [
        {
          "output_type": "stream",
          "text": [
            "Epoch 1/4\n",
            "49/49 [==============================] - 2s 33ms/step - loss: 0.5685 - accuracy: 0.7221\n",
            "Epoch 2/4\n",
            "49/49 [==============================] - 1s 28ms/step - loss: 0.2798 - accuracy: 0.9104\n",
            "Epoch 3/4\n",
            "49/49 [==============================] - 2s 33ms/step - loss: 0.2029 - accuracy: 0.9327\n",
            "Epoch 4/4\n",
            "49/49 [==============================] - 1s 28ms/step - loss: 0.1642 - accuracy: 0.9461\n",
            "782/782 [==============================] - 3s 3ms/step - loss: 0.3079 - accuracy: 0.8788\n"
          ],
          "name": "stdout"
        }
      ]
    },
    {
      "cell_type": "code",
      "metadata": {
        "colab": {
          "base_uri": "https://localhost:8080/"
        },
        "id": "RE8AlACuV6Nl",
        "outputId": "7a324e6d-2f40-4d20-c37f-3140408987d1"
      },
      "source": [
        "model.predict(x_test)"
      ],
      "execution_count": null,
      "outputs": [
        {
          "output_type": "execute_result",
          "data": {
            "text/plain": [
              "array([[0.21695122],\n",
              "       [0.9980352 ],\n",
              "       [0.96554685],\n",
              "       ...,\n",
              "       [0.15132234],\n",
              "       [0.10283262],\n",
              "       [0.6891588 ]], dtype=float32)"
            ]
          },
          "metadata": {
            "tags": []
          },
          "execution_count": 27
        }
      ]
    },
    {
      "cell_type": "code",
      "metadata": {
        "colab": {
          "base_uri": "https://localhost:8080/"
        },
        "id": "HcAl0HNfstTL",
        "outputId": "0dcaae79-8b9b-40a5-ee04-6dfe3a8cb4cd"
      },
      "source": [
        "from keras.datasets import imdb\n",
        "\n",
        "(train_data, train_labels),(test_data, test_labels) = imdb.load_data(\n",
        "    num_words=10000\n",
        ")"
      ],
      "execution_count": null,
      "outputs": [
        {
          "output_type": "stream",
          "text": [
            "Downloading data from https://storage.googleapis.com/tensorflow/tf-keras-datasets/imdb.npz\n",
            "17465344/17464789 [==============================] - 0s 0us/step\n"
          ],
          "name": "stdout"
        },
        {
          "output_type": "stream",
          "text": [
            "<string>:6: VisibleDeprecationWarning: Creating an ndarray from ragged nested sequences (which is a list-or-tuple of lists-or-tuples-or ndarrays with different lengths or shapes) is deprecated. If you meant to do this, you must specify 'dtype=object' when creating the ndarray\n",
            "/usr/local/lib/python3.6/dist-packages/tensorflow/python/keras/datasets/imdb.py:159: VisibleDeprecationWarning: Creating an ndarray from ragged nested sequences (which is a list-or-tuple of lists-or-tuples-or ndarrays with different lengths or shapes) is deprecated. If you meant to do this, you must specify 'dtype=object' when creating the ndarray\n",
            "  x_train, y_train = np.array(xs[:idx]), np.array(labels[:idx])\n",
            "/usr/local/lib/python3.6/dist-packages/tensorflow/python/keras/datasets/imdb.py:160: VisibleDeprecationWarning: Creating an ndarray from ragged nested sequences (which is a list-or-tuple of lists-or-tuples-or ndarrays with different lengths or shapes) is deprecated. If you meant to do this, you must specify 'dtype=object' when creating the ndarray\n",
            "  x_test, y_test = np.array(xs[idx:]), np.array(labels[idx:])\n"
          ],
          "name": "stderr"
        }
      ]
    },
    {
      "cell_type": "code",
      "metadata": {
        "id": "K40QbDQft6RJ"
      },
      "source": [
        "import numpy as np\n",
        "\n",
        "def vectorize_sequneces(sequnece, dimension=10000):\n",
        "  results = np.zeros((len(sequnece), dimension))\n",
        "  for i, sequences in enumerate(sequnece):\n",
        "    results[i,sequences] = 1.\n",
        "  return results\n",
        "\n",
        "x_train = vectorize_sequneces(train_data)\n",
        "x_test = vectorize_sequneces(test_data)\n",
        "\n",
        "y_train =np.asarray(train_labels).astype('float32')\n",
        "y_test =np.asarray(test_labels).astype('float32')\n"
      ],
      "execution_count": null,
      "outputs": []
    },
    {
      "cell_type": "code",
      "metadata": {
        "id": "q88BcseLvP6j"
      },
      "source": [
        "from keras import layers\n",
        "from keras import models\n",
        "\n",
        "model = models.Sequential()\n",
        "model.add(layers.Dense(16, activation='relu',input_shape=(10000,)))\n",
        "model.add(layers.Dense(16, activation='relu'))\n",
        "model.add(layers.Dense(1, activation='sigmoid'))"
      ],
      "execution_count": null,
      "outputs": []
    },
    {
      "cell_type": "code",
      "metadata": {
        "id": "JVkpo-VLwtPq"
      },
      "source": [
        "model.compile(optimizer='rmsprop',\n",
        "              loss='binary_crossentropy',\n",
        "              metrics =  ['accuracy'])"
      ],
      "execution_count": null,
      "outputs": []
    },
    {
      "cell_type": "code",
      "metadata": {
        "id": "iX6rpL0AxIlj"
      },
      "source": [
        "x_val = x_train[:10000]\n",
        "partial_x_train = x_train[10000:]\n",
        "y_val = y_train[:10000]\n",
        "partial_y_train = y_train[10000:]"
      ],
      "execution_count": null,
      "outputs": []
    },
    {
      "cell_type": "code",
      "metadata": {
        "colab": {
          "base_uri": "https://localhost:8080/"
        },
        "id": "hxx4R_kCxoA-",
        "outputId": "a1bb42f9-9ede-4924-c44b-89eec6056321"
      },
      "source": [
        "model.compile(optimizer='rmsprop',\n",
        "              loss='binary_crossentropy',\n",
        "              metrics=['acc'])\n",
        "\n",
        "history = model.fit(partial_x_train,\n",
        "                    partial_y_train,\n",
        "                    epochs=4,\n",
        "                    batch_size=512,\n",
        "                    validation_data=(x_val,y_val))"
      ],
      "execution_count": null,
      "outputs": [
        {
          "output_type": "stream",
          "text": [
            "Epoch 1/4\n",
            "30/30 [==============================] - 2s 49ms/step - loss: 0.0668 - acc: 0.9798 - val_loss: 0.4233 - val_acc: 0.8698\n",
            "Epoch 2/4\n",
            "30/30 [==============================] - 1s 34ms/step - loss: 0.0326 - acc: 0.9930 - val_loss: 0.4300 - val_acc: 0.8761\n",
            "Epoch 3/4\n",
            "30/30 [==============================] - 1s 30ms/step - loss: 0.0260 - acc: 0.9958 - val_loss: 0.4579 - val_acc: 0.8725\n",
            "Epoch 4/4\n",
            "30/30 [==============================] - 1s 29ms/step - loss: 0.0203 - acc: 0.9968 - val_loss: 0.4959 - val_acc: 0.8739\n"
          ],
          "name": "stdout"
        }
      ]
    },
    {
      "cell_type": "code",
      "metadata": {
        "colab": {
          "base_uri": "https://localhost:8080/",
          "height": 557
        },
        "id": "cVCt3x_JyWBe",
        "outputId": "c8f0b8d2-daf1-42f6-fbc1-4958d72ab205"
      },
      "source": [
        "import matplotlib.pyplot as plt\n",
        "\n",
        "history_dict = history.history\n",
        "loss = history_dict['loss']\n",
        "val_loss = history_dict['val_loss']\n",
        "\n",
        "epochs = range(1, len(loss)+1)\n",
        "\n",
        "plt.plot(epochs, loss, 'bo', label='Training loss')\n",
        "plt.plot(epochs, val_loss,'b', label='Validation loss')\n",
        "plt.title('Training and Validation loss')\n",
        "plt.xlabel('Epochs')\n",
        "plt.ylabel('Loss')\n",
        "plt.legend()\n",
        "\n",
        "plt.show()\n",
        "\n",
        "plt.clf()\n",
        "acc = history_dict['acc']\n",
        "val_loss = history_dict['val_loss']\n",
        "\n",
        "plt.plot(epochs, acc, 'bo', label='Training acc')\n",
        "plt.plot(epochs, val_loss,'b', label='Validation acc')\n",
        "plt.xlabel('Epochs')\n",
        "plt.ylabel('acc')\n",
        "plt.legend()\n",
        "plt.show()"
      ],
      "execution_count": null,
      "outputs": [
        {
          "output_type": "display_data",
          "data": {
            "image/png": "[encoded data removed]",
            "text/plain": [
              "<Figure size 432x288 with 1 Axes>"
            ]
          },
          "metadata": {
            "tags": [],
            "needs_background": "light"
          }
        },
        {
          "output_type": "display_data",
          "data": {
            "image/png": "[encoded data removed]",
            "text/plain": [
              "<Figure size 432x288 with 1 Axes>"
            ]
          },
          "metadata": {
            "tags": [],
            "needs_background": "light"
          }
        }
      ]
    },
    {
      "cell_type": "code",
      "metadata": {
        "colab": {
          "base_uri": "https://localhost:8080/"
        },
        "id": "SEKvf9M01o2F",
        "outputId": "fab9372c-d264-4cd0-fa0f-26accf44f117"
      },
      "source": [
        "model.predict(x_test)"
      ],
      "execution_count": null,
      "outputs": [
        {
          "output_type": "execute_result",
          "data": {
            "text/plain": [
              "array([[0.03787377],\n",
              "       [0.9999925 ],\n",
              "       [0.8959856 ],\n",
              "       ...,\n",
              "       [0.03143314],\n",
              "       [0.02585134],\n",
              "       [0.9332903 ]], dtype=float32)"
            ]
          },
          "metadata": {
            "tags": []
          },
          "execution_count": 49
        }
      ]
    },
    {
      "cell_type": "code",
      "metadata": {
        "colab": {
          "base_uri": "https://localhost:8080/"
        },
        "id": "qhcS4I0y4RT2",
        "outputId": "7e24a46f-6f86-4183-f213-5dc451ef9b3d"
      },
      "source": [
        "from keras.datasets import reuters\n",
        "\n",
        "(train_data, train_labels),(test_data, test_labels) = reuters.load_data(\n",
        "    num_words = 10000)"
      ],
      "execution_count": null,
      "outputs": [
        {
          "output_type": "stream",
          "text": [
            "/usr/local/lib/python3.6/dist-packages/tensorflow/python/keras/datasets/reuters.py:148: VisibleDeprecationWarning: Creating an ndarray from ragged nested sequences (which is a list-or-tuple of lists-or-tuples-or ndarrays with different lengths or shapes) is deprecated. If you meant to do this, you must specify 'dtype=object' when creating the ndarray\n",
            "  x_train, y_train = np.array(xs[:idx]), np.array(labels[:idx])\n",
            "/usr/local/lib/python3.6/dist-packages/tensorflow/python/keras/datasets/reuters.py:149: VisibleDeprecationWarning: Creating an ndarray from ragged nested sequences (which is a list-or-tuple of lists-or-tuples-or ndarrays with different lengths or shapes) is deprecated. If you meant to do this, you must specify 'dtype=object' when creating the ndarray\n",
            "  x_test, y_test = np.array(xs[idx:]), np.array(labels[idx:])\n"
          ],
          "name": "stderr"
        }
      ]
    },
    {
      "cell_type": "code",
      "metadata": {
        "id": "qJQ2cZfXldUX"
      },
      "source": [
        "import numpy as np\n",
        "\n",
        "def vectorize_sequences(sequences, dimension=10000):\n",
        "  results = np.zeros((len(sequences),dimension))\n",
        "  for i, sequence in enumerate(sequences):\n",
        "    results[i, sequence] = 1.\n",
        "  return results\n",
        "x_train = vectorize_sequences(train_data)\n",
        "x_test = vectorize_sequences(test_data)"
      ],
      "execution_count": null,
      "outputs": []
    },
    {
      "cell_type": "markdown",
      "metadata": {
        "id": "sipRRrxda4Fv"
      },
      "source": []
    },
    {
      "cell_type": "code",
      "metadata": {
        "id": "xdwYXr8-AL3V",
        "colab": {
          "base_uri": "https://localhost:8080/"
        },
        "outputId": "3699565e-e5d8-447e-ad09-686afc1ebc52"
      },
      "source": [
        "from keras.datasets import boston_housing\n",
        "\n",
        "(train_data, train_targets),(test_data, test_targets) = boston_housing.load_data()"
      ],
      "execution_count": null,
      "outputs": [
        {
          "output_type": "stream",
          "text": [
            "Downloading data from https://storage.googleapis.com/tensorflow/tf-keras-datasets/boston_housing.npz\n",
            "57344/57026 [==============================] - 0s 0us/step\n"
          ],
          "name": "stdout"
        }
      ]
    },
    {
      "cell_type": "code",
      "metadata": {
        "id": "L_M4rKZnggKn"
      },
      "source": [
        "mean = train_data.mean(axis=0)\n",
        "train_data -= mean\n",
        "\n",
        "std = train_data.std(axis=0)\n",
        "train_data /= std\n",
        "\n",
        "test_data -= mean\n",
        "test_data /= std"
      ],
      "execution_count": null,
      "outputs": []
    },
    {
      "cell_type": "code",
      "metadata": {
        "id": "pXTp9ouygmLF"
      },
      "source": [
        "from keras import models\n",
        "from keras import layers\n",
        "\n",
        "def build_model():\n",
        "  model = models.Sequential()\n",
        "  model.add(layers.Dense(64, activation='relu', input_shape =(train_data.shape[1],)))\n",
        "  model.add(layers.Dense(64, activation = 'relu'))\n",
        "  model.add(layers.Dense(1))\n",
        "\n",
        "  model.compile(optimizer = 'rmsprop',\n",
        "                loss = 'mse',\n",
        "                metrics = ['mae'])\n",
        "  return model"
      ],
      "execution_count": null,
      "outputs": []
    },
    {
      "cell_type": "code",
      "metadata": {
        "colab": {
          "base_uri": "https://localhost:8080/"
        },
        "id": "6nfRYHMihGD1",
        "outputId": "618d9364-1c6e-4c50-f04e-66414d03ab64"
      },
      "source": [
        "import numpy as np\n",
        "\n",
        "#겹폴드교차 갯수\n",
        "k = 4\n",
        "\n",
        "num_val_sample = len(train_data) // k\n",
        "num_epochs = 100\n",
        "all_scores = []\n",
        "\n",
        "for i in range(k):\n",
        "  print('처리중인 폴드 = %d' %i)\n",
        "  val_data = train_data[i * num_val_sample: (i+1)*num_val_sample]\n",
        "  val_targets = train_targets[i * num_val_sample: (i+1)*num_val_sample]\n",
        "\n",
        "  partial_train_data = np.concatenate(\n",
        "      [train_data[: i * num_val_sample],\n",
        "       train_data[(i+1) * num_val_sample:]],\n",
        "       axis = 0)\n",
        "  partial_trian_targets = np.concatenate(\n",
        "      [train_targets[: i * num_val_sample],\n",
        "       train_targets[(i+1) * num_val_sample:]],\n",
        "       axis = 0)\n",
        "  \n",
        "  model = build_model()\n",
        "  model.fit(partial_train_data, partial_trian_targets,\n",
        "            epochs=num_epochs, batch_size = 1, verbose = 0)\n",
        "  \n",
        "  val_mse, val_mae = model.evaluate(val_data, val_targets, verbose = 1)\n",
        "  all_scores.append(val_mae)"
      ],
      "execution_count": null,
      "outputs": [
        {
          "output_type": "stream",
          "text": [
            "처리중인 폴드 = 0\n",
            "4/4 [==============================] - 0s 3ms/step - loss: 7.5294 - mae: 2.1262\n",
            "처리중인 폴드 = 1\n",
            "4/4 [==============================] - 0s 3ms/step - loss: 10.1758 - mae: 2.3746\n",
            "처리중인 폴드 = 2\n",
            "4/4 [==============================] - 0s 3ms/step - loss: 16.0373 - mae: 2.6703\n",
            "처리중인 폴드 = 3\n",
            "4/4 [==============================] - 0s 3ms/step - loss: 14.1260 - mae: 2.7008\n"
          ],
          "name": "stdout"
        }
      ]
    },
    {
      "cell_type": "code",
      "metadata": {
        "colab": {
          "base_uri": "https://localhost:8080/"
        },
        "id": "an87q8SojUVM",
        "outputId": "586f4688-1088-4382-ceab-a85271f527f2"
      },
      "source": [
        "np.mean(all_scores)"
      ],
      "execution_count": null,
      "outputs": [
        {
          "output_type": "execute_result",
          "data": {
            "text/plain": [
              "2.467980206012726"
            ]
          },
          "metadata": {
            "tags": []
          },
          "execution_count": 7
        }
      ]
    },
    {
      "cell_type": "code",
      "metadata": {
        "colab": {
          "base_uri": "https://localhost:8080/"
        },
        "id": "YkCyacYylrPD",
        "outputId": "d75fb7bb-8c4a-4f21-f01e-054e6b982b46"
      },
      "source": [
        "num_epochs = 500\n",
        "all_mae_histories = []\n",
        "\n",
        "for i in range(k):\n",
        "  print('처리중인 폴드 = %d' %i)\n",
        "\n",
        "  val_data = train_data[i * num_val_sample: (i+1)*num_val_sample]\n",
        "  val_targets = train_targets[i * num_val_sample: (i+1)*num_val_sample]\n",
        "\n",
        "  partial_train_data = np.concatenate(\n",
        "      [train_data[: i * num_val_sample],\n",
        "       train_data[(i+1) * num_val_sample:]],\n",
        "       axis = 0)\n",
        "  partial_trian_targets = np.concatenate(\n",
        "      [train_targets[: i * num_val_sample],\n",
        "       train_targets[(i+1) * num_val_sample:]],\n",
        "       axis = 0)\n",
        "\n",
        "  model = build_model()\n",
        "  history = model.fit(partial_train_data, partial_trian_targets,\n",
        "                      validation_data=(val_data, val_targets),\n",
        "                      epochs = num_epochs, batch_size = 1,verbose = 0)\n",
        "  \n",
        "  mae_history = history.history['val_mae']\n",
        "  all_mae_histories.append(mae_history)"
      ],
      "execution_count": null,
      "outputs": [
        {
          "output_type": "stream",
          "text": [
            "처리중인 폴드 = 0\n",
            "처리중인 폴드 = 1\n",
            "처리중인 폴드 = 2\n",
            "처리중인 폴드 = 3\n"
          ],
          "name": "stdout"
        }
      ]
    },
    {
      "cell_type": "code",
      "metadata": {
        "id": "wJLohNnXm4Dk"
      },
      "source": [
        "average_mae_history = [\n",
        "                       np.mean([x[i] for x in all_mae_histories]) for i in range(num_epochs)\n",
        "]"
      ],
      "execution_count": null,
      "outputs": []
    },
    {
      "cell_type": "code",
      "metadata": {
        "colab": {
          "base_uri": "https://localhost:8080/",
          "height": 279
        },
        "id": "rjZv7AqO0E_s",
        "outputId": "3376c770-721a-4d86-a911-e56cd5e31223"
      },
      "source": [
        "import matplotlib.pyplot as plt\n",
        "\n",
        "plt.plot(range(1, len(average_mae_history) +1), average_mae_history)\n",
        "\n",
        "plt.xlabel('epochs')\n",
        "plt.ylabel('validation mae')\n",
        "\n",
        "plt.show()"
      ],
      "execution_count": null,
      "outputs": [
        {
          "output_type": "display_data",
          "data": {
            "image/png": "[encoded data removed]",
            "text/plain": [
              "<Figure size 432x288 with 1 Axes>"
            ]
          },
          "metadata": {
            "tags": [],
            "needs_background": "light"
          }
        }
      ]
    },
    {
      "cell_type": "code",
      "metadata": {
        "colab": {
          "base_uri": "https://localhost:8080/",
          "height": 279
        },
        "id": "3Vk4RnWC0XQ9",
        "outputId": "4a8763d0-fdaf-4d63-941e-f0d39dd815e8"
      },
      "source": [
        "def smooth_curve(points, factor=0.9):\n",
        "  smoothed_points = []\n",
        "  for point in points:\n",
        "    if smoothed_points:\n",
        "      p \n",
        "      smoothed_points.append(previous * factor + point * (1-factor))\n",
        "    else:\n",
        "      smoothed_points.append(point)\n",
        "  return smoothed_points\n",
        "\n",
        "smooth_mae_history = smooth_curve(average_mae_history[10:])\n",
        "\n",
        "plt.plot(range(1, len(smooth_mae_history) +1), smooth_mae_history)\n",
        "plt.xlabel('epochs')\n",
        "plt.ylabel('validataion mae')\n",
        "plt.show()"
      ],
      "execution_count": null,
      "outputs": [
        {
          "output_type": "display_data",
          "data": {
            "image/png": "[encoded data removed]",
            "text/plain": [
              "<Figure size 432x288 with 1 Axes>"
            ]
          },
          "metadata": {
            "tags": [],
            "needs_background": "light"
          }
        }
      ]
    },
    {
      "cell_type": "code",
      "metadata": {
        "id": "p0tw5dpY1VL1"
      },
      "source": [
        "model = build_model()\n",
        "model.fit(train_data, train_targets,\n",
        "          epochs=80, batch_size=16, verbose = 1)\n",
        "test_mse_score, test_mae_score = model.evaluate(test_data, test_targets)\n"
      ],
      "execution_count": null,
      "outputs": []
    },
    {
      "cell_type": "code",
      "metadata": {
        "colab": {
          "base_uri": "https://localhost:8080/"
        },
        "id": "0FQSP9yF17x2",
        "outputId": "4ca1ba71-6b1d-4e4c-d2a5-30dad4e3bd65"
      },
      "source": [
        "test_mae_score"
      ],
      "execution_count": null,
      "outputs": [
        {
          "output_type": "execute_result",
          "data": {
            "text/plain": [
              "2.5858867168426514"
            ]
          },
          "metadata": {
            "tags": []
          },
          "execution_count": 20
        }
      ]
    },
    {
      "cell_type": "code",
      "metadata": {
        "id": "6tfTIKHq1_Sz"
      },
      "source": [
        "from keras import layers\n",
        "from keras import models"
      ],
      "execution_count": null,
      "outputs": []
    },
    {
      "cell_type": "code",
      "metadata": {
        "id": "9YtuqgdB0fF7"
      },
      "source": [
        "model = models.Sequential()\n",
        "model.add(layers.Conv2D(32, (3,3), activation = 'relu', input_shape = (28,28, 1)))\n",
        "model.add(layers.MaxPool2D((2,2)))\n",
        "model.add(layers.Conv2D(64, (3,3), activation = 'relu'))\n",
        "model.add(layers.MaxPool2D((2,2)))\n",
        "model.add(layers.Conv2D(64, (3,3), activation = 'relu'))"
      ],
      "execution_count": null,
      "outputs": []
    },
    {
      "cell_type": "code",
      "metadata": {
        "colab": {
          "base_uri": "https://localhost:8080/"
        },
        "id": "3txyv-gW1W1p",
        "outputId": "177d81a4-1339-43a5-97d8-4487ea077ab9"
      },
      "source": [
        "model.summary()"
      ],
      "execution_count": null,
      "outputs": [
        {
          "output_type": "stream",
          "text": [
            "Model: \"sequential_2\"\n",
            "_________________________________________________________________\n",
            "Layer (type)                 Output Shape              Param #   \n",
            "=================================================================\n",
            "conv2d_1 (Conv2D)            (None, 26, 26, 32)        320       \n",
            "_________________________________________________________________\n",
            "max_pooling2d_1 (MaxPooling2 (None, 13, 13, 32)        0         \n",
            "_________________________________________________________________\n",
            "conv2d_2 (Conv2D)            (None, 11, 11, 64)        18496     \n",
            "_________________________________________________________________\n",
            "max_pooling2d_2 (MaxPooling2 (None, 5, 5, 64)          0         \n",
            "_________________________________________________________________\n",
            "conv2d_3 (Conv2D)            (None, 3, 3, 64)          36928     \n",
            "=================================================================\n",
            "Total params: 55,744\n",
            "Trainable params: 55,744\n",
            "Non-trainable params: 0\n",
            "_________________________________________________________________\n"
          ],
          "name": "stdout"
        }
      ]
    },
    {
      "cell_type": "code",
      "metadata": {
        "id": "oSZq7ZJ61gC8"
      },
      "source": [
        "model.add(layers.Flatten())\n",
        "model.add(layers.Dense(64, activation = 'relu'))\n",
        "model.add(layers.Dense(10, activation='softmax'))"
      ],
      "execution_count": null,
      "outputs": []
    },
    {
      "cell_type": "code",
      "metadata": {
        "colab": {
          "base_uri": "https://localhost:8080/"
        },
        "id": "0sxG6UZU3fSe",
        "outputId": "7c69616b-ef47-4ad7-d460-f5e51b020018"
      },
      "source": [
        "model.summary()"
      ],
      "execution_count": null,
      "outputs": [
        {
          "output_type": "stream",
          "text": [
            "Model: \"sequential_2\"\n",
            "_________________________________________________________________\n",
            "Layer (type)                 Output Shape              Param #   \n",
            "=================================================================\n",
            "conv2d_1 (Conv2D)            (None, 26, 26, 32)        320       \n",
            "_________________________________________________________________\n",
            "max_pooling2d_1 (MaxPooling2 (None, 13, 13, 32)        0         \n",
            "_________________________________________________________________\n",
            "conv2d_2 (Conv2D)            (None, 11, 11, 64)        18496     \n",
            "_________________________________________________________________\n",
            "max_pooling2d_2 (MaxPooling2 (None, 5, 5, 64)          0         \n",
            "_________________________________________________________________\n",
            "conv2d_3 (Conv2D)            (None, 3, 3, 64)          36928     \n",
            "_________________________________________________________________\n",
            "flatten (Flatten)            (None, 576)               0         \n",
            "_________________________________________________________________\n",
            "dense (Dense)                (None, 64)                36928     \n",
            "_________________________________________________________________\n",
            "dense_1 (Dense)              (None, 10)                650       \n",
            "=================================================================\n",
            "Total params: 93,322\n",
            "Trainable params: 93,322\n",
            "Non-trainable params: 0\n",
            "_________________________________________________________________\n"
          ],
          "name": "stdout"
        }
      ]
    },
    {
      "cell_type": "code",
      "metadata": {
        "id": "gQGttXEc3pAH"
      },
      "source": [
        "from keras.datasets import mnist\n",
        "from keras.utils import to_categorical"
      ],
      "execution_count": null,
      "outputs": []
    },
    {
      "cell_type": "code",
      "metadata": {
        "colab": {
          "base_uri": "https://localhost:8080/"
        },
        "id": "mnab-iHv4UOO",
        "outputId": "4a9fac01-4e79-4b67-e352-13226ce7ca1c"
      },
      "source": [
        "(train_images, train_labels), (test_images, test_labels) = mnist.load_data()"
      ],
      "execution_count": null,
      "outputs": [
        {
          "output_type": "stream",
          "text": [
            "Downloading data from https://storage.googleapis.com/tensorflow/tf-keras-datasets/mnist.npz\n",
            "11493376/11490434 [==============================] - 0s 0us/step\n"
          ],
          "name": "stdout"
        }
      ]
    },
    {
      "cell_type": "code",
      "metadata": {
        "id": "KUf8BxFN4cyV"
      },
      "source": [
        "train_images = train_images.reshape((60000, 28,28,1))\n",
        "train_images = train_images.astype('float32')/255\n",
        "\n",
        "test_images = test_images.reshape((10000, 28,28,1))\n",
        "test_images = test_images.astype('float32')/255"
      ],
      "execution_count": null,
      "outputs": []
    },
    {
      "cell_type": "code",
      "metadata": {
        "colab": {
          "base_uri": "https://localhost:8080/"
        },
        "id": "08WvlJNj442D",
        "outputId": "37a99581-c520-4dc1-9130-6d14f1e33bd4"
      },
      "source": [
        "train_labels = to_categorical(train_labels)\n",
        "test_labels = to_categorical(test_labels)\n",
        "\n",
        "model.compile(optimizer = 'rmsprop',\n",
        "              loss = 'categorical_crossentropy',\n",
        "              metrics = ['accuracy'])\n",
        "\n",
        "model.fit(train_images, train_labels, epochs=5, batch_size=64)"
      ],
      "execution_count": null,
      "outputs": [
        {
          "output_type": "stream",
          "text": [
            "Epoch 1/5\n",
            "938/938 [==============================] - 10s 3ms/step - loss: 0.3933 - accuracy: 0.8738\n",
            "Epoch 2/5\n",
            "938/938 [==============================] - 3s 3ms/step - loss: 0.0502 - accuracy: 0.9838\n",
            "Epoch 3/5\n",
            "938/938 [==============================] - 3s 3ms/step - loss: 0.0312 - accuracy: 0.9904\n",
            "Epoch 4/5\n",
            "938/938 [==============================] - 3s 3ms/step - loss: 0.0236 - accuracy: 0.9931\n",
            "Epoch 5/5\n",
            "938/938 [==============================] - 3s 3ms/step - loss: 0.0179 - accuracy: 0.9945\n"
          ],
          "name": "stdout"
        },
        {
          "output_type": "execute_result",
          "data": {
            "text/plain": [
              "<tensorflow.python.keras.callbacks.History at 0x7fd4b6850208>"
            ]
          },
          "metadata": {
            "tags": []
          },
          "execution_count": 15
        }
      ]
    },
    {
      "cell_type": "code",
      "metadata": {
        "colab": {
          "base_uri": "https://localhost:8080/"
        },
        "id": "pDoanNM55ZH7",
        "outputId": "0c6c88cc-7b45-427d-bec2-20d268c41050"
      },
      "source": [
        "test_loss, test_acc = model.evaluate(test_images, test_labels)\n",
        "test_acc"
      ],
      "execution_count": null,
      "outputs": [
        {
          "output_type": "stream",
          "text": [
            "313/313 [==============================] - 1s 2ms/step - loss: 0.0337 - accuracy: 0.9909\n"
          ],
          "name": "stdout"
        },
        {
          "output_type": "execute_result",
          "data": {
            "text/plain": [
              "0.9908999800682068"
            ]
          },
          "metadata": {
            "tags": []
          },
          "execution_count": 16
        }
      ]
    },
    {
      "cell_type": "code",
      "metadata": {
        "id": "iai8RNOM5qe9"
      },
      "source": [],
      "execution_count": null,
      "outputs": []
    }
  ]
}